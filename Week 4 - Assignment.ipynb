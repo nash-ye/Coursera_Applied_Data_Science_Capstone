{
 "cells": [
  {
   "cell_type": "markdown",
   "metadata": {},
   "source": [
    "# Capstone Project - The Battle of Neighborhoods\n",
    "\n",
    "This is my contribution to the final Peer-Reviewed Assignment for the Capstone Project for Applied Data Science Specialization from IBM on Coursera.\n",
    "\n",
    "## Section 1: Introduction\n",
    "\n",
    "In this section, I will define the idea of my choosing, where I use Foursquare's places API to solve an assumed business opportunity.\n",
    "\n",
    "### Background\n",
    "\n",
    "Shopping hours in Germany are very restrictive. Most shops are closed on Sundays, and few shops remain open after 8:00 PM on weekdays. Finding open shops at night is difficult, especially in the winter session. There are many unhappy customers and opportunities for businesses to open and serve in metropolitan cities where people from different cultures live.\n",
    "\n",
    "This project will map the shops with extended working times and analyze how many households they serve and which neighborhoods may need a shop with more flexible shopping hours. This analysis will focus on Frankfurt am Main, which has 763,380 inhabitants as of December 31, 2019, and one of the global hubs for commerce, culture, education, tourism, and transportation.\n",
    "\n",
    "The project will help entrepreneurs and shop owners realize the untapped opportunity. It is also assisting consumers in finding neighborhoods with stores that open at the typical closing time.\n",
    "\n",
    "### Data\n",
    "\n",
    "Given the project size and simplicity, I will use a few data sources in a narrow context. In this project, I will use the Foursquare API as a primary data source. Foursquare offers various end-points that can be utilized to execute the project's idea.\n",
    "\n",
    "I will use the [Venue Categories](https://developer.foursquare.com/docs/api-reference/venues/categories/) end-point to get the list of the available categories, focus on the categories related to retailer shops and supermarkets. Then use the [Venue Search](https://developer.foursquare.com/docs/api-reference/venues/search/) to get a list of the venues using the defined categories and a limited radius. After that, I will use the [Venue Hours](https://developer.foursquare.com/docs/api-reference/venues/hours/) premium end-point to get the information about the opening hours."
   ]
  },
  {
   "cell_type": "code",
   "execution_count": null,
   "metadata": {},
   "outputs": [],
   "source": []
  }
 ],
 "metadata": {
  "kernelspec": {
   "display_name": "Python",
   "language": "python",
   "name": "conda-env-python-py"
  },
  "language_info": {
   "codemirror_mode": {
    "name": "ipython",
    "version": 3
   },
   "file_extension": ".py",
   "mimetype": "text/x-python",
   "name": "python",
   "nbconvert_exporter": "python",
   "pygments_lexer": "ipython3",
   "version": "3.6.12"
  }
 },
 "nbformat": 4,
 "nbformat_minor": 4
}
